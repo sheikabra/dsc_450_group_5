{
  "nbformat": 4,
  "nbformat_minor": 0,
  "metadata": {
    "colab": {
      "provenance": [],
      "authorship_tag": "ABX9TyN2th2oqcsImHO8+ws16K8m",
      "include_colab_link": true
    },
    "kernelspec": {
      "name": "python3",
      "display_name": "Python 3"
    },
    "language_info": {
      "name": "python"
    }
  },
  "cells": [
    {
      "cell_type": "markdown",
      "metadata": {
        "id": "view-in-github",
        "colab_type": "text"
      },
      "source": [
        "<a href=\"https://colab.research.google.com/github/sheikabra/dsc_450_group_5/blob/main/dsc_450_group05.ipynb\" target=\"_parent\"><img src=\"https://colab.research.google.com/assets/colab-badge.svg\" alt=\"Open In Colab\"/></a>"
      ]
    },
    {
      "cell_type": "markdown",
      "source": [
        "#Group 5 Project  \n",
        "### [Add Project Choice Here]\n",
        "#### [Source for data here]\n",
        "######by: Abrahim Hussain,"
      ],
      "metadata": {
        "id": "SGhzgmtTc5gx"
      }
    },
    {
      "cell_type": "markdown",
      "source": [
        "##1. Data Cleaning and Preperation\n",
        "\n",
        "\n"
      ],
      "metadata": {
        "id": "7OkhM6qDdGAE"
      }
    },
    {
      "cell_type": "code",
      "execution_count": null,
      "metadata": {
        "id": "f3OT1RNsb8Kr"
      },
      "outputs": [],
      "source": []
    },
    {
      "cell_type": "markdown",
      "source": [
        "#2. Modelling"
      ],
      "metadata": {
        "id": "9ZpWH4JcdPi8"
      }
    },
    {
      "cell_type": "markdown",
      "source": [
        "### Abrahim's Model"
      ],
      "metadata": {
        "id": "XS1LlMZ1dp6j"
      }
    },
    {
      "cell_type": "code",
      "source": [],
      "metadata": {
        "id": "Tpd8_BgEdoR9"
      },
      "execution_count": null,
      "outputs": []
    },
    {
      "cell_type": "markdown",
      "source": [
        "# 3. Best Model"
      ],
      "metadata": {
        "id": "ni2vG_4DeD5U"
      }
    },
    {
      "cell_type": "code",
      "source": [],
      "metadata": {
        "id": "6Rtjf55weIfX"
      },
      "execution_count": null,
      "outputs": []
    },
    {
      "cell_type": "markdown",
      "source": [
        "# 4. Conclusions And Thoughts"
      ],
      "metadata": {
        "id": "olwyaESEeI8h"
      }
    },
    {
      "cell_type": "markdown",
      "source": [
        "### [Conclusions Here]\n",
        "\n",
        "### [If Had Time Analysis Here]"
      ],
      "metadata": {
        "id": "YQ_RShAoeeum"
      }
    }
  ]
}